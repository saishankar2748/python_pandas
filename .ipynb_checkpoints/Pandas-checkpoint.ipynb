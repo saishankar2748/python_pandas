{
 "cells": [
  {
   "cell_type": "markdown",
   "id": "38b4cc46",
   "metadata": {},
   "source": [
    "# <p style=\"color:blue\">Pandas </p>\n",
    "\n",
    "Pandas is a library specifically for data analysis built using NumPy. We'll be using Pandas extensively for data manipulation, visualisation, building machine learning models, etc."
   ]
  },
  {
   "cell_type": "markdown",
   "id": "67cec941",
   "metadata": {},
   "source": [
    "-  <b>DataFrame</b>: It takes in data like csv or sql_database and create objects of rows and coulmns called as DataFrame\n",
    "-  Indexing\n",
    "-  Supports loading data from different file formats\n",
    "-  Reshaping and Pivoting is very simple using pandas\n",
    "-  Mutable in nature\n",
    "-  High performance Merging and Joining data\n",
    "-  Handling and ploting time series data\n",
    "-  It can hold and operate on mixed data"
   ]
  },
  {
   "cell_type": "markdown",
   "id": "b61b302b",
   "metadata": {},
   "source": [
    "### There are two main datastucture in pandas:\n",
    "    \n",
    "### <b>Series</b> :-\n",
    "-  1-dimensional array\n",
    "-  Supports multiple data types\n",
    "-  pd.Series(data, dtype)\n",
    "\n",
    "### <b>Dataframes</b> :-\n",
    "-  2-dimensional heterogenous data structure\n",
    "-  labelled axis called as rows and coulmns\n",
    "-  Syntax for dataframe from dictoinaries<br>-->>  pd.DataFrame(dictionary_name)\n",
    "-  Syntax for dataframe from array/list<br>-->>  pd.DataFrame(list or array, columns = ['column_1', 'column_2'])\n",
    "-  from csv file<br>-->>  pd.read_csv(filepath, sep=',', header='None')\n",
    "-  with index value<br>-->>  pd.read_csv(filepath, sep=',', header='None',index_col = column_number)\n",
    "-  for column headings<br>-->>  dataframe_name.columns = list_of_column_names\n",
    "-  with hierarchial indexing<br>-->>  pd.read_csv(filepath, sep=',', header='None',index_col = [col_num_1,col_num_2])"
   ]
  }
 ],
 "metadata": {
  "kernelspec": {
   "display_name": "Python 3 (ipykernel)",
   "language": "python",
   "name": "python3"
  },
  "language_info": {
   "codemirror_mode": {
    "name": "ipython",
    "version": 3
   },
   "file_extension": ".py",
   "mimetype": "text/x-python",
   "name": "python",
   "nbconvert_exporter": "python",
   "pygments_lexer": "ipython3",
   "version": "3.9.7"
  }
 },
 "nbformat": 4,
 "nbformat_minor": 5
}
