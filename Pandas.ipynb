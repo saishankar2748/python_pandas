{
 "cells": [
  {
   "cell_type": "markdown",
   "id": "38b4cc46",
   "metadata": {},
   "source": [
    "# <p style=\"color:blue\">Pandas </p>\n",
    "\n",
    "Pandas is a library specifically for data analysis built using NumPy. We'll be using Pandas extensively for data manipulation, visualisation, building machine learning models, etc."
   ]
  },
  {
   "cell_type": "markdown",
   "id": "67cec941",
   "metadata": {},
   "source": [
    "-  <b>DataFrame</b>: It takes in data like csv or sql_database and create objects of rows and coulmns called as DataFrame\n",
    "-  Indexing\n",
    "-  Supports loading data from different file formats\n",
    "-  Reshaping and Pivoting is very simple using pandas\n",
    "-  Mutable in nature\n",
    "-  High performance Merging and Joining data\n",
    "-  Handling and ploting time series data\n",
    "-  It can hold and operate on mixed data"
   ]
  },
  {
   "cell_type": "markdown",
   "id": "b61b302b",
   "metadata": {},
   "source": [
    "## <p style=\"color:blue\">Loading data into dataframes and manipulate the indices and headers </p>\n",
    "### There are two main datastucture in pandas:\n",
    "    \n",
    "### <b>Series</b> :-\n",
    "-  1-dimensional array\n",
    "-  Supports multiple data types\n",
    "-  pd.Series(data, dtype)\n",
    "\n",
    "### <b>Dataframes</b> :-\n",
    "-  2-dimensional heterogenous data structure\n",
    "-  labelled axis called as rows and coulmns\n",
    "-  Syntax for dataframe from dictoinaries<br>-->>  pd.DataFrame(dictionary_name)\n",
    "-  Syntax for dataframe from array/list<br>-->>  pd.DataFrame(list or array, columns = ['column_1', 'column_2'])\n",
    "-  from csv file<br>-->>  pd.read_csv(filepath, sep=',', header='None')\n",
    "-  with index value<br>-->>  pd.read_csv(filepath, sep=',', header='None',index_col = column_number)\n",
    "-  for column headings<br>-->>  dataframe_name.columns = list_of_column_names\n",
    "-  for changing index <br>-->>  dataframe_name.index\n",
    "-  with hierarchial indexing<br>-->>  pd.read_csv(filepath, sep=',', header='None',index_col = [col_num_1,col_num_2])"
   ]
  },
  {
   "cell_type": "markdown",
   "id": "539de1b9",
   "metadata": {},
   "source": [
    "## <p style=\"color:blue\">Describing data  </p>\n",
    "-  dataframe_name.head()\n",
    "    <br>-->>  prints first 5 rows,if num is specified then according to num, number of rows will be displayed\n",
    "-  dataframe_name.tail()\n",
    "    <br>-->> prints last 5 rows\n",
    "-  dataframe.info():<br>-->> This method prints information about the dataframe, which includes the index data type and column data types, the count of non-null values and the memory used.\n",
    "-  dataframe.describe():<br>-->> This function produces descriptive statistics for the dataframe, that is, the central tendency (mean, median, min, max, etc.), dispersion, etc. It analyses the data and generates output for numeric and non-numeric data types accordingly.\n",
    "-  dataframe[list of col to view].plot(kind='box',subplots=True)<br>-->> plots graph directly from pandas dataframe"
   ]
  },
  {
   "cell_type": "markdown",
   "id": "863e54f5",
   "metadata": {},
   "source": [
    "## <p style=\"color:blue\">Indexing and Slicing dataframe  </p>"
   ]
  },
  {
   "cell_type": "markdown",
   "id": "0703892b",
   "metadata": {},
   "source": [
    "\n",
    "### a.  Extract either all of the columns of particular rows or all of the rows for a particular column \n",
    "1. all rows of particular columns:\n",
    "   -  df['column'] or df.column: It returns a series\n",
    "   -  df[['col_x', 'col_y']]: It returns a dataframe\n",
    "2. all columns from particular rows:\n",
    "    -  df[start_index:end_index]"
   ]
  },
  {
   "cell_type": "markdown",
   "id": "aa3e6328",
   "metadata": {},
   "source": [
    "### b.  Extract a specific column from a specific row\n",
    "\n",
    "#### 1. Label-based indexing:\n",
    "\n",
    "-  to extract rows and columns from a dataframe based on the labels\n",
    "-  dataframe.loc[[list_of_row_labels], [list_of_column_labels]]\n",
    "    \n",
    "#### 2. Position-based indexing:\n",
    "-  to extract rows and columns from a dataframe based on the positions or indices\n",
    "-  dataframe.iloc[rows_num, columns_num]"
   ]
  },
  {
   "cell_type": "markdown",
   "id": "959b91e7",
   "metadata": {},
   "source": [
    "### c.  Subsetting a dataframe based on certain conditions.\n",
    "\n",
    "#### Filter with one condition:\n",
    "\n",
    "-  sales[['Profit']]>0 <br> >> returns boolean values dataframe\n",
    "-  sales[sales['Profit']>0]<br> >> returns a dataframe with all columns\n",
    "-  sales[sales['Profit']>0].iloc[:,[2]] <br> >> returns dataframe based on indexing provided\n",
    "\n",
    "#### Filter with multiple condition:\n",
    "\n",
    "-  sales[(first condition) & (second condition)] \n",
    "-  Example   >>   sales[(sales['Sales'] > 250000) & (sales['Market'].isin(['LATAM','Europe']))]\n",
    "-  isin() , isna() functions can be usefull here"
   ]
  },
  {
   "cell_type": "markdown",
   "id": "d55a30d7",
   "metadata": {},
   "source": [
    "## <p style=\"color:blue\">Operations on dataframe  </p>\n",
    "\n",
    "After loading the data in the dataframes, it is not necessary that they will be usable in the same format. We may have to modify or generate new entries from the existing data to get the desired format.\n",
    "-  To do binary operations over a coulmn:<br> >>  df.coulmn_name = df.coulmn_name.Binary_operator_functions(input)\n",
    "-  To rename rows or columns:<br> >>  dataframe.rename(index={row_index: \"new_name\"}, columns={column_name: \"new_name\"},inplace=True)\n",
    "-  Derived Variables :<br>Another way to modify or create a new column is by using the lambda functions.\n",
    "    -  apply() >> Takes lambda function or function object as parameter\n",
    "    -  sales.coulmn_name = sales.coulmn_name.apply(lambda x : np.nan if condition else x)"
   ]
  },
  {
   "cell_type": "markdown",
   "id": "877bb986",
   "metadata": {},
   "source": [
    "## <p style=\"color:blue\">Hierarchical Indexing  </p>\n",
    "\n",
    "-  To set a multilevel index in a dataframe:<br> >>  dataframe.set_index([column_1, column_2])\n",
    "-  To obtain data from such dataframes, we have to provide the row details as a tuple inside a list.<br> >>  dataframe.loc[[(label_1, sub_label_1), (label_1, sub_label_2)], [column_label_1, column_label_2]]"
   ]
  },
  {
   "cell_type": "markdown",
   "id": "7e92cbec",
   "metadata": {},
   "source": [
    "## <p style=\"color:blue\">Grouping  </p>\n",
    "\n",
    "\n",
    "-  Grouping is different for index columns and non-index columns\n",
    "    1.  <b>For Index columns:</b> New dataframe is not required<br>\n",
    "        df[[desired_cols to apply aggregate function]].groupby(Index_col).aggregatefunction() \n",
    "    2.  <b>For Non-Index columns:</b> New dataframe is required<br>first store the dataframe and then run the aggregate functions on the new dataframe<br>\n",
    "        new_df = df.groupby([Non-Index_col])<br>\n",
    "        new_df[desired_cols to apply aggregate function].aggregatefunction() \n",
    "\n",
    "\n",
    "-  <b>The groupby()</b> function returns a Pandas object, which can be used further to perform the desired aggregate functions. \n",
    "\n",
    "\n",
    "\n",
    "##### Grouping analysis can be thought of as having three parts, namely:\n",
    "1.  <b>Splitting the data</b> into groups (e.g., groups of customer segments, product categories, etc.)\n",
    "2.  <b>Applying a function</b> to each group (e.g., the mean or total sales of each customer segment)\n",
    "3.  <b>Combining the results</b> into a data structure showing summary statistics"
   ]
  }
 ],
 "metadata": {
  "kernelspec": {
   "display_name": "Python 3 (ipykernel)",
   "language": "python",
   "name": "python3"
  },
  "language_info": {
   "codemirror_mode": {
    "name": "ipython",
    "version": 3
   },
   "file_extension": ".py",
   "mimetype": "text/x-python",
   "name": "python",
   "nbconvert_exporter": "python",
   "pygments_lexer": "ipython3",
   "version": "3.9.7"
  }
 },
 "nbformat": 4,
 "nbformat_minor": 5
}
